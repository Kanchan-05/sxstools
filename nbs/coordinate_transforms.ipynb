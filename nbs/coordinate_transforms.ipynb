{
 "cells": [
  {
   "cell_type": "markdown",
   "id": "7a9523e7",
   "metadata": {},
   "source": [
    "# Coordinate Transformations\n",
    "\n",
    "Transform the NR data products (i.e. spins, vectors and waveform modes) to a frame at $t_{ref}$ consistent with the LAL conventions."
   ]
  },
  {
   "cell_type": "code",
   "execution_count": null,
   "id": "1bbb6afa",
   "metadata": {},
   "outputs": [],
   "source": [
    "from sxstools.quantities import get_dynamics_from_h5, get_t_ref_from_dynamics_and_freq, get_NR_ref_quantities_at_t_ref\n",
    "from sxstools.coordinate_transform import CoordinateTransform\n",
    "import scri"
   ]
  },
  {
   "cell_type": "code",
   "execution_count": null,
   "id": "0426980c",
   "metadata": {},
   "outputs": [],
   "source": [
    "path_to_horizons_file = \"../data/Horizons.h5\"\n",
    "# Define the total mass of the system if t_ref (M) is to be\n",
    "# inferred from f_ref (Hz)\n",
    "Mtotal = 100 \n",
    "\n",
    "# Get the dynamics\n",
    "dynamics = get_dynamics_from_h5(path_to_horizons_file)\n",
    "\n",
    "# Get t_ref from f_ref\n",
    "# t_junk is the duration of data in the beginning that\n",
    "# you don't want to trust\n",
    "t_ref = get_t_ref_from_dynamics_and_freq(dynamics, f_ref=20, Mtotal=Mtotal, t_junk=100)\n",
    "\n",
    "# Get the reference parameters in the NR reference frame\n",
    "ref_params = get_NR_ref_quantities_at_t_ref(dynamics=dynamics, t_ref=t_ref)\n",
    "\n",
    "# Load the NR waveform modes\n",
    "\n",
    "wmodes = scri.SpEC.file_io.read_from_h5(\"../data/rhOverM_Extrapolated_N2_CoM.h5\")\n"
   ]
  },
  {
   "cell_type": "code",
   "execution_count": 6,
   "id": "b7fde425",
   "metadata": {},
   "outputs": [],
   "source": [
    "t_operator = CoordinateTransform(NR_ref_parames=ref_params,\n",
    "                                 dynamics=dynamics,\n",
    "                                 waveform_modes=wmodes,\n",
    "                                )"
   ]
  },
  {
   "cell_type": "code",
   "execution_count": null,
   "id": "ac931bd7",
   "metadata": {},
   "outputs": [],
   "source": [
    "t_operator.transform()"
   ]
  },
  {
   "cell_type": "markdown",
   "id": "a6167a61",
   "metadata": {},
   "source": [
    "# The transformed quantities can be accessed as follows"
   ]
  },
  {
   "cell_type": "code",
   "execution_count": null,
   "id": "90737d63",
   "metadata": {},
   "outputs": [],
   "source": [
    "t_operator.reference_parameters"
   ]
  },
  {
   "cell_type": "code",
   "execution_count": null,
   "id": "1604e934",
   "metadata": {},
   "outputs": [],
   "source": [
    "t_operator.transformed_quantities"
   ]
  }
 ],
 "metadata": {
  "kernelspec": {
   "display_name": "igwn-py310",
   "language": "python",
   "name": "python3"
  },
  "language_info": {
   "codemirror_mode": {
    "name": "ipython",
    "version": 3
   },
   "file_extension": ".py",
   "mimetype": "text/x-python",
   "name": "python",
   "nbconvert_exporter": "python",
   "pygments_lexer": "ipython3",
   "version": "3.10.16"
  }
 },
 "nbformat": 4,
 "nbformat_minor": 5
}
